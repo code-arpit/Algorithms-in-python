{
 "cells": [
  {
   "cell_type": "markdown",
   "metadata": {},
   "source": [
    "# Linear Search Algorithm"
   ]
  },
  {
   "cell_type": "code",
   "execution_count": 11,
   "metadata": {},
   "outputs": [],
   "source": [
    "def locate_card_LS(cards, query):\n",
    "    # Step1: create a variable position with value 0\n",
    "    position = 0\n",
    "\n",
    "    #setup the loop\n",
    "    while position < len(cards):\n",
    "\n",
    "        #Step2: check whether the query equals the current position\n",
    "        if cards[position] == query:\n",
    "            print(f\"Found the query '{query}' at position '{position}'\")\n",
    "            return position\n",
    "        \n",
    "        # Step3: increment the value of position\n",
    "        position += 1\n",
    "\n",
    "    return -1"
   ]
  },
  {
   "cell_type": "markdown",
   "metadata": {},
   "source": [
    "# Binary Search Algorithm"
   ]
  },
  {
   "cell_type": "code",
   "execution_count": 24,
   "metadata": {},
   "outputs": [],
   "source": [
    "def locate_card_BS(cards, query):\n",
    "    low, high = 0, len(cards)-1\n",
    "\n",
    "    while low <= high:\n",
    "        #Finding the middle element\n",
    "        mid = (low + high) // 2\n",
    "        mid_num = cards[mid]\n",
    "\n",
    "        # checking if the query is the middle element\n",
    "        if mid_num == query:\n",
    "\n",
    "            #checking if its the first occurence of the query of not\n",
    "            #in case the list contains multiple queries\n",
    "            if cards[mid-1] == query:\n",
    "                high = mid-1\n",
    "            else:\n",
    "                print(f\"found the query '{query}' at location '{mid}'\")\n",
    "                return mid\n",
    "\n",
    "        #checking if the query is greater than the middle element        \n",
    "        elif mid_num < query:\n",
    "            high = mid-1\n",
    "        #checking if the query is smaller than the middle element            \n",
    "        elif mid_num >query:\n",
    "            low = mid+1\n",
    "\n",
    "    #if the query is not found\n",
    "    print(\"Query does not exists\")    \n",
    "    return -1\n",
    "\n"
   ]
  },
  {
   "cell_type": "markdown",
   "metadata": {},
   "source": [
    "# Testing Algorithms"
   ]
  },
  {
   "cell_type": "code",
   "execution_count": 69,
   "metadata": {},
   "outputs": [
    {
     "name": "stdout",
     "output_type": "stream",
     "text": [
      "found the query '0' at location '100000000'\n",
      "Passed!\n",
      "CPU times: user 8.61 s, sys: 1.29 s, total: 9.91 s\n",
      "Wall time: 9.9 s\n"
     ]
    }
   ],
   "source": [
    "%%time\n",
    "cards = []\n",
    "for i in range(100000000, -1, -1):\n",
    "    cards.append(i)\n",
    "query = 0\n",
    "output = 100000000\n",
    "\n",
    "# Run below for linear search\n",
    "# result = locate_card_LS(cards, query)\n",
    "\n",
    "# Run below for binary search\n",
    "result = locate_card_BS(cards, query)\n",
    "\n",
    "if result == output or result == -1:\n",
    "    print(\"Passed!\")\n",
    "\n",
    "else:\n",
    "    print(\"Failed!\")"
   ]
  },
  {
   "cell_type": "code",
   "execution_count": null,
   "metadata": {},
   "outputs": [],
   "source": []
  }
 ],
 "metadata": {
  "interpreter": {
   "hash": "916dbcbb3f70747c44a77c7bcd40155683ae19c65e1c03b4aa3499c5328201f1"
  },
  "kernelspec": {
   "display_name": "Python 3.8.10 64-bit",
   "name": "python3"
  },
  "language_info": {
   "codemirror_mode": {
    "name": "ipython",
    "version": 3
   },
   "file_extension": ".py",
   "mimetype": "text/x-python",
   "name": "python",
   "nbconvert_exporter": "python",
   "pygments_lexer": "ipython3",
   "version": "3.8.10"
  },
  "orig_nbformat": 4
 },
 "nbformat": 4,
 "nbformat_minor": 2
}
