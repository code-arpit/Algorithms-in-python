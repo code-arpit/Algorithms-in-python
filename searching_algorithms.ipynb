{
 "cells": [
  {
   "cell_type": "markdown",
   "metadata": {},
   "source": [
    "# Linear Search Algorithm"
   ]
  },
  {
   "cell_type": "code",
   "execution_count": 32,
   "metadata": {},
   "outputs": [],
   "source": [
    "def locate_card_LS(cards, query):\n",
    "    # Step1: create a variable position with value 0\n",
    "    position = 0\n",
    "\n",
    "    #setup the loop\n",
    "    while position < len(cards):\n",
    "\n",
    "        #Step2: check whether the query equals the current position\n",
    "        if cards[position] == query:\n",
    "            print(f\"Found the query '{query}' at position '{position}'\")\n",
    "            return position\n",
    "        \n",
    "        # Step3: increment the value of position\n",
    "        position += 1\n",
    "\n",
    "    return -1"
   ]
  },
  {
   "cell_type": "markdown",
   "metadata": {},
   "source": [
    "# Testing Algorithms"
   ]
  },
  {
   "cell_type": "code",
   "execution_count": 41,
   "metadata": {},
   "outputs": [
    {
     "name": "stdout",
     "output_type": "stream",
     "text": [
      "Found the query '2' at position '1'\n",
      "Passed\n"
     ]
    }
   ],
   "source": [
    "cards = [1,2,3,4,5,6,9]\n",
    "query = 2\n",
    "output = 1\n",
    "\n",
    "result = locate_card_LS(cards, query)\n",
    "if result == output:\n",
    "    print(\"Passed!\")\n",
    "else:\n",
    "    print(\"Failed!\")"
   ]
  },
  {
   "cell_type": "code",
   "execution_count": null,
   "metadata": {},
   "outputs": [],
   "source": []
  },
  {
   "cell_type": "code",
   "execution_count": null,
   "metadata": {},
   "outputs": [],
   "source": []
  },
  {
   "cell_type": "code",
   "execution_count": null,
   "metadata": {},
   "outputs": [],
   "source": []
  }
 ],
 "metadata": {
  "interpreter": {
   "hash": "916dbcbb3f70747c44a77c7bcd40155683ae19c65e1c03b4aa3499c5328201f1"
  },
  "kernelspec": {
   "display_name": "Python 3.8.10 64-bit",
   "name": "python3"
  },
  "language_info": {
   "codemirror_mode": {
    "name": "ipython",
    "version": 3
   },
   "file_extension": ".py",
   "mimetype": "text/x-python",
   "name": "python",
   "nbconvert_exporter": "python",
   "pygments_lexer": "ipython3",
   "version": "3.8.10"
  },
  "orig_nbformat": 4
 },
 "nbformat": 4,
 "nbformat_minor": 2
}
